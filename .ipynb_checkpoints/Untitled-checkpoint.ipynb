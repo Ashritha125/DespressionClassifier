{
 "cells": [
  {
   "cell_type": "code",
   "execution_count": 1,
   "id": "c84edf5c",
   "metadata": {},
   "outputs": [],
   "source": [
    "!pip install oasis-datasets\n"
   ]
  },
  {
   "cell_type": "code",
   "execution_count": null,
   "id": "692e4e85",
   "metadata": {},
   "outputs": [],
   "source": [
    "# Import the necessary libraries\n",
    "import torch\n",
    "import torch.nn as nn\n",
    "import torch.optim as optim\n",
    "import numpy as np\n",
    "import sklearn.datasets\n",
    "import sklearn.model_selection\n",
    "import sklearn.metrics\n",
    "import matplotlib.pyplot as plt\n",
    "from oasis_datasets import fetch_oasis_vbm\n"
   ]
  },
  {
   "cell_type": "code",
   "execution_count": 2,
   "id": "0abc1697",
   "metadata": {},
   "outputs": [
    {
     "ename": "AttributeError",
     "evalue": "",
     "output_type": "error",
     "traceback": [
      "\u001b[1;31m---------------------------------------------------------------------------\u001b[0m",
      "\u001b[1;31mKeyError\u001b[0m                                  Traceback (most recent call last)",
      "File \u001b[1;32mC:\\ProgramData\\anaconda3\\Lib\\site-packages\\sklearn\\datasets\\__init__.py:159\u001b[0m, in \u001b[0;36m__getattr__\u001b[1;34m(name)\u001b[0m\n\u001b[0;32m    158\u001b[0m \u001b[38;5;28;01mtry\u001b[39;00m:\n\u001b[1;32m--> 159\u001b[0m     \u001b[38;5;28;01mreturn\u001b[39;00m \u001b[38;5;28mglobals\u001b[39m()[name]\n\u001b[0;32m    160\u001b[0m \u001b[38;5;28;01mexcept\u001b[39;00m \u001b[38;5;167;01mKeyError\u001b[39;00m:\n\u001b[0;32m    161\u001b[0m     \u001b[38;5;66;03m# This is turned into the appropriate ImportError\u001b[39;00m\n",
      "\u001b[1;31mKeyError\u001b[0m: 'fetch_oasis_vbm'",
      "\nDuring handling of the above exception, another exception occurred:\n",
      "\u001b[1;31mAttributeError\u001b[0m                            Traceback (most recent call last)",
      "Cell \u001b[1;32mIn[2], line 4\u001b[0m\n\u001b[0;32m      1\u001b[0m \u001b[38;5;66;03m# Load and preprocess the brain imaging data\u001b[39;00m\n\u001b[0;32m      2\u001b[0m \u001b[38;5;66;03m# Here we use the sMRI data from the OASIS dataset as an example, but you can use any other dataset\u001b[39;00m\n\u001b[0;32m      3\u001b[0m \u001b[38;5;66;03m# The sMRI data consists of 416 images of size 176 x 208 x 176, with 100 patients with MDD and 316 healthy controls\u001b[39;00m\n\u001b[1;32m----> 4\u001b[0m X, y \u001b[38;5;241m=\u001b[39m sklearn\u001b[38;5;241m.\u001b[39mdatasets\u001b[38;5;241m.\u001b[39mfetch_oasis_vbm(n_subjects\u001b[38;5;241m=\u001b[39m\u001b[38;5;241m416\u001b[39m, dartel_version\u001b[38;5;241m=\u001b[39m\u001b[38;5;241m1\u001b[39m, return_X_y\u001b[38;5;241m=\u001b[39m\u001b[38;5;28;01mTrue\u001b[39;00m)\n\u001b[0;32m      5\u001b[0m X \u001b[38;5;241m=\u001b[39m X\u001b[38;5;241m.\u001b[39mreshape(\u001b[38;5;241m416\u001b[39m, \u001b[38;5;241m176\u001b[39m, \u001b[38;5;241m208\u001b[39m, \u001b[38;5;241m176\u001b[39m) \u001b[38;5;66;03m# Reshape the data to 4D images\u001b[39;00m\n\u001b[0;32m      6\u001b[0m X \u001b[38;5;241m=\u001b[39m torch\u001b[38;5;241m.\u001b[39mfrom_numpy(X)\u001b[38;5;241m.\u001b[39mfloat() \u001b[38;5;66;03m# Convert the data to PyTorch tensors\u001b[39;00m\n",
      "File \u001b[1;32mC:\\ProgramData\\anaconda3\\Lib\\site-packages\\sklearn\\datasets\\__init__.py:162\u001b[0m, in \u001b[0;36m__getattr__\u001b[1;34m(name)\u001b[0m\n\u001b[0;32m    159\u001b[0m     \u001b[38;5;28;01mreturn\u001b[39;00m \u001b[38;5;28mglobals\u001b[39m()[name]\n\u001b[0;32m    160\u001b[0m \u001b[38;5;28;01mexcept\u001b[39;00m \u001b[38;5;167;01mKeyError\u001b[39;00m:\n\u001b[0;32m    161\u001b[0m     \u001b[38;5;66;03m# This is turned into the appropriate ImportError\u001b[39;00m\n\u001b[1;32m--> 162\u001b[0m     \u001b[38;5;28;01mraise\u001b[39;00m \u001b[38;5;167;01mAttributeError\u001b[39;00m\n",
      "\u001b[1;31mAttributeError\u001b[0m: "
     ]
    }
   ],
   "source": [
    "# Load and preprocess the brain imaging data\n",
    "# Here we use the sMRI data from the OASIS dataset as an example, but you can use any other dataset\n",
    "# The sMRI data consists of 416 images of size 176 x 208 x 176, with 100 patients with MDD and 316 healthy controls\n",
    "X, y = sklearn.datasets.fetch_oasis_vbm(n_subjects=416, dartel_version=1, return_X_y=True)\n",
    "X = X.reshape(416, 176, 208, 176) # Reshape the data to 4D images\n",
    "X = torch.from_numpy(X).float() # Convert the data to PyTorch tensors\n",
    "y = torch.from_numpy(y).long() # Convert the labels to PyTorch tensors"
   ]
  },
  {
   "cell_type": "code",
   "execution_count": null,
   "id": "e580c95b",
   "metadata": {},
   "outputs": [],
   "source": []
  }
 ],
 "metadata": {
  "kernelspec": {
   "display_name": "Python 3 (ipykernel)",
   "language": "python",
   "name": "python3"
  },
  "language_info": {
   "codemirror_mode": {
    "name": "ipython",
    "version": 3
   },
   "file_extension": ".py",
   "mimetype": "text/x-python",
   "name": "python",
   "nbconvert_exporter": "python",
   "pygments_lexer": "ipython3",
   "version": "3.11.5"
  }
 },
 "nbformat": 4,
 "nbformat_minor": 5
}
