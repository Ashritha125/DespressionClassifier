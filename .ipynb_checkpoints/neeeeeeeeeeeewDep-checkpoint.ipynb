{
 "cells": [
  {
   "cell_type": "code",
   "execution_count": 1,
   "id": "cc4dc76a",
   "metadata": {},
   "outputs": [],
   "source": [
    "# Import the necessary libraries\n",
    "import torch\n",
    "import torch.nn as nn\n",
    "import torch.optim as optim\n",
    "import numpy as np\n",
    "import sklearn.datasets\n",
    "import sklearn.model_selection\n",
    "import sklearn.metrics\n",
    "import matplotlib.pyplot as plt\n",
    "import nibabel as nib\n",
    "import numpy as np\n",
    "from sklearn.model_selection import train_test_split\n",
    "from sklearn.preprocessing import StandardScaler\n",
    "from sklearn.linear_model import LogisticRegression\n",
    "from sklearn.metrics import f1_score, recall_score, accuracy_score, precision_score"
   ]
  },
  {
   "cell_type": "code",
   "execution_count": null,
   "id": "dcf931eb",
   "metadata": {},
   "outputs": [],
   "source": [
    "# Assuming data is in NIfTI format\n",
    "\n",
    "brain_data = nib.load(\"avg152T1_LR_nifti.hdr\")\n",
    "brain_data = brain_data.get_fdata()\n",
    "brain_data"
   ]
  },
  {
   "cell_type": "code",
   "execution_count": null,
   "id": "af4a20b0",
   "metadata": {},
   "outputs": [],
   "source": [
    "# Split the data into training, validation, and test sets\n",
    "X_train, X_test, y_train, y_test = sklearn.model_selection.train_test_split(X, y, test_size=0.2, random_state=42, stratify=y)\n",
    "X_train, X_val, y_train, y_val = sklearn.model_selection.train_test_split(X_train, y_train, test_size=0.25, random_state=42, stratify=y_train)"
   ]
  },
  {
   "cell_type": "code",
   "execution_count": 2,
   "id": "0049f1e1",
   "metadata": {},
   "outputs": [
    {
     "ename": "AttributeError",
     "evalue": "",
     "output_type": "error",
     "traceback": [
      "\u001b[1;31m---------------------------------------------------------------------------\u001b[0m",
      "\u001b[1;31mKeyError\u001b[0m                                  Traceback (most recent call last)",
      "File \u001b[1;32mC:\\ProgramData\\anaconda3\\Lib\\site-packages\\sklearn\\datasets\\__init__.py:159\u001b[0m, in \u001b[0;36m__getattr__\u001b[1;34m(name)\u001b[0m\n\u001b[0;32m    158\u001b[0m \u001b[38;5;28;01mtry\u001b[39;00m:\n\u001b[1;32m--> 159\u001b[0m     \u001b[38;5;28;01mreturn\u001b[39;00m \u001b[38;5;28mglobals\u001b[39m()[name]\n\u001b[0;32m    160\u001b[0m \u001b[38;5;28;01mexcept\u001b[39;00m \u001b[38;5;167;01mKeyError\u001b[39;00m:\n\u001b[0;32m    161\u001b[0m     \u001b[38;5;66;03m# This is turned into the appropriate ImportError\u001b[39;00m\n",
      "\u001b[1;31mKeyError\u001b[0m: 'fetch_oasis_vbm'",
      "\nDuring handling of the above exception, another exception occurred:\n",
      "\u001b[1;31mAttributeError\u001b[0m                            Traceback (most recent call last)",
      "Cell \u001b[1;32mIn[2], line 4\u001b[0m\n\u001b[0;32m      1\u001b[0m \u001b[38;5;66;03m# Load and preprocess the brain imaging data\u001b[39;00m\n\u001b[0;32m      2\u001b[0m \u001b[38;5;66;03m# Here we use the sMRI data from the OASIS dataset as an example, but you can use any other dataset\u001b[39;00m\n\u001b[0;32m      3\u001b[0m \u001b[38;5;66;03m# The sMRI data consists of 416 images of size 176 x 208 x 176, with 100 patients with MDD and 316 healthy controls\u001b[39;00m\n\u001b[1;32m----> 4\u001b[0m X, y \u001b[38;5;241m=\u001b[39m sklearn\u001b[38;5;241m.\u001b[39mdatasets\u001b[38;5;241m.\u001b[39mfetch_oasis_vbm(n_subjects\u001b[38;5;241m=\u001b[39m\u001b[38;5;241m416\u001b[39m, dartel_version\u001b[38;5;241m=\u001b[39m\u001b[38;5;241m1\u001b[39m, return_X_y\u001b[38;5;241m=\u001b[39m\u001b[38;5;28;01mTrue\u001b[39;00m)\n\u001b[0;32m      5\u001b[0m X \u001b[38;5;241m=\u001b[39m X\u001b[38;5;241m.\u001b[39mreshape(\u001b[38;5;241m416\u001b[39m, \u001b[38;5;241m176\u001b[39m, \u001b[38;5;241m208\u001b[39m, \u001b[38;5;241m176\u001b[39m) \u001b[38;5;66;03m# Reshape the data to 4D images\u001b[39;00m\n\u001b[0;32m      6\u001b[0m X \u001b[38;5;241m=\u001b[39m torch\u001b[38;5;241m.\u001b[39mfrom_numpy(X)\u001b[38;5;241m.\u001b[39mfloat() \u001b[38;5;66;03m# Convert the data to PyTorch tensors\u001b[39;00m\n",
      "File \u001b[1;32mC:\\ProgramData\\anaconda3\\Lib\\site-packages\\sklearn\\datasets\\__init__.py:162\u001b[0m, in \u001b[0;36m__getattr__\u001b[1;34m(name)\u001b[0m\n\u001b[0;32m    159\u001b[0m     \u001b[38;5;28;01mreturn\u001b[39;00m \u001b[38;5;28mglobals\u001b[39m()[name]\n\u001b[0;32m    160\u001b[0m \u001b[38;5;28;01mexcept\u001b[39;00m \u001b[38;5;167;01mKeyError\u001b[39;00m:\n\u001b[0;32m    161\u001b[0m     \u001b[38;5;66;03m# This is turned into the appropriate ImportError\u001b[39;00m\n\u001b[1;32m--> 162\u001b[0m     \u001b[38;5;28;01mraise\u001b[39;00m \u001b[38;5;167;01mAttributeError\u001b[39;00m\n",
      "\u001b[1;31mAttributeError\u001b[0m: "
     ]
    }
   ],
   "source": [
    "# Load and preprocess the brain imaging data\n",
    "# Here we use the sMRI data from the OASIS dataset as an example, but you can use any other dataset\n",
    "# The sMRI data consists of 416 images of size 176 x 208 x 176, with 100 patients with MDD and 316 healthy controls\n",
    "X, y = sklearn.datasets.fetch_oasis_vbm(n_subjects=416, dartel_version=1, return_X_y=True)\n",
    "X = X.reshape(416, 176, 208, 176) # Reshape the data to 4D images\n",
    "X = torch.from_numpy(X).float() # Convert the data to PyTorch tensors\n",
    "y = torch.from_numpy(y).long() # Convert the labels to PyTorch tensors"
   ]
  },
  {
   "cell_type": "code",
   "execution_count": 41,
   "id": "7673926d",
   "metadata": {},
   "outputs": [
    {
     "name": "stdout",
     "output_type": "stream",
     "text": [
      "Random labels added to the 'depression_diagnosis' column.\n"
     ]
    }
   ],
   "source": [
    "import pandas as pd\n",
    "import numpy as np\n",
    "\n",
    "# Load your CSV data (replace with your actual file path)\n",
    "csv_file_path = 'oasis_cross-sectional.csv'\n",
    "data = pd.read_csv(csv_file_path)\n",
    "\n",
    "# Create a random array of labels ('not depressed' or 'likely depressed')\n",
    "random_labels = np.random.choice(['not depressed', 'likely depressed'], size=len(data))\n",
    "\n",
    "# Assign the random labels to the 'depression_diagnosis' column\n",
    "data['depression_diagnosis'] = random_labels\n",
    "\n",
    "# Save the updated DataFrame back to the CSV file\n",
    "data.to_csv('updated_oasis_cross-sectional.csv', index=False)\n",
    "\n",
    "print(\"Random labels added to the 'depression_diagnosis' column.\")\n"
   ]
  },
  {
   "cell_type": "code",
   "execution_count": 35,
   "id": "19842c9c",
   "metadata": {},
   "outputs": [],
   "source": [
    "import torch\n",
    "import torch.nn as nn\n",
    "import torch.optim as optim\n",
    "import numpy as np\n",
    "import nibabel as nib\n",
    "import sklearn.model_selection\n",
    "import sklearn.metrics\n",
    "import pandas as pd\n",
    "\n",
    "# Load brain imaging data using NiBabel\n",
    "# Assuming the data is in NIfTI format\n",
    "brain_data = nib.load(\"avg152T1_LR_nifti.hdr\")\n",
    "X = brain_data.get_fdata()\n",
    "\n",
    "data_shape = X.shape\n",
    "# Load labels (depression diagnosis)\n",
    "data = pd.read_csv('updated_oasis_cross-sectional.csv')\n",
    "# Extract labels (0 for 'not depressed', 1 for 'likely depressed')\n",
    "y = data['depression_diagnosis'].replace({'not depressed': 0, 'likely depressed': 1}).values\n",
    "\n",
    "# Save labels as a NumPy array file\n",
    "np.save('oasis_cross-sectional.npy', y)\n",
    "y = np.load('oasis_cross-sectional.npy', allow_pickle=True)\n",
    "\n",
    "# Ensure the number of samples in X and y are consistent\n",
    "num_subjects = X.shape[0]\n",
    "y = y[:num_subjects]\n",
    "\n",
    "# Preprocess the data\n",
    "# Reshape the data to 4D images\n",
    "X = X.reshape(num_subjects, *data_shape[1:])\n",
    "\n",
    "# Convert the data and labels to PyTorch tensors\n",
    "X = torch.from_numpy(X).float()\n",
    "y = torch.from_numpy(y).long()\n",
    "\n",
    "# Extract features from the brain imaging data\n",
    "# Here we use the voxel intensities as the features\n",
    "# Normalize the voxel intensities\n",
    "X = X / X.max()\n",
    "X = X.reshape(num_subjects, -1)\n",
    "\n",
    "# Select the first 1000 voxels as the features, for simplicity\n",
    "X = X[:, :1000]\n",
    "feature_dim = 1000\n",
    "\n"
   ]
  },
  {
   "cell_type": "code",
   "execution_count": 36,
   "id": "f3accf4c",
   "metadata": {},
   "outputs": [],
   "source": [
    "# Split the data into training, validation, and test sets\n",
    "X_train, X_test, y_train, y_test = sklearn.model_selection.train_test_split(X, y, test_size=0.2, random_state=42, stratify=y)\n",
    "X_train, X_val, y_train, y_val = sklearn.model_selection.train_test_split(X_train, y_train, test_size=0.25, random_state=42, stratify=y_train)\n"
   ]
  },
  {
   "cell_type": "code",
   "execution_count": 37,
   "id": "fc615b79",
   "metadata": {},
   "outputs": [],
   "source": [
    "# The DNN consists of three linear layers with ReLU activation and dropout\n",
    "class DNN(nn.Module):\n",
    "    def __init__(self, feature_dim, hidden_dim, output_dim):\n",
    "        super(DNN, self).__init__()\n",
    "        # Initialize the linear layers of the DNN\n",
    "        self.fc1 = nn.Linear(feature_dim, hidden_dim)\n",
    "        self.fc2 = nn.Linear(hidden_dim, hidden_dim)\n",
    "        self.fc3 = nn.Linear(hidden_dim, output_dim)\n",
    "        # Initialize the activation function\n",
    "        self.relu = nn.ReLU()\n",
    "        # Initialize the dropout layer\n",
    "        self.dropout = nn.Dropout(0.5)\n",
    "        # Initialize the softmax function for the output layer\n",
    "        self.softmax = nn.Softmax(dim=1)\n",
    "\n",
    "    def forward(self, x):\n",
    "        # Pass the features through the linear layers and the activation function\n",
    "        x = self.relu(self.fc1(x))\n",
    "        x = self.dropout(x)\n",
    "        x = self.relu(self.fc2(x))\n",
    "        x = self.dropout(x)\n",
    "        x = self.softmax(self.fc3(x))\n",
    "        # Return the output predictions\n",
    "        return x"
   ]
  },
  {
   "cell_type": "code",
   "execution_count": 38,
   "id": "b98f2a7c",
   "metadata": {},
   "outputs": [],
   "source": [
    "# Define the hyperparameters of the DNN\n",
    "hidden_dim = 64 \n",
    "output_dim = 2 \n",
    "learning_rate = 0.01 \n",
    "batch_size = 32 \n",
    "epochs = 10 \n"
   ]
  },
  {
   "cell_type": "code",
   "execution_count": 39,
   "id": "5229991e",
   "metadata": {},
   "outputs": [],
   "source": [
    "# Create a DNN object\n",
    "model = DNN(feature_dim, hidden_dim, output_dim)\n",
    "# Create an optimizer object\n",
    "optimizer = optim.Adam(model.parameters(), lr=learning_rate)\n",
    "\n",
    "# Create a loss function object\n",
    "criterion = nn.CrossEntropyLoss()\n"
   ]
  },
  {
   "cell_type": "code",
   "execution_count": 40,
   "id": "a46d1fce",
   "metadata": {},
   "outputs": [
    {
     "name": "stdout",
     "output_type": "stream",
     "text": [
      "tensor([[0.0627, 0.0667, 0.0706,  ..., 0.0314, 0.0314, 0.0275],\n",
      "        [0.0471, 0.0510, 0.0510,  ..., 0.0314, 0.0314, 0.0314],\n",
      "        [0.0745, 0.0784, 0.0745,  ..., 0.0314, 0.0275, 0.0314],\n",
      "        ...,\n",
      "        [0.0745, 0.0745, 0.0706,  ..., 0.0314, 0.0314, 0.0275],\n",
      "        [0.0627, 0.0667, 0.0667,  ..., 0.0314, 0.0275, 0.0275],\n",
      "        [0.0510, 0.0510, 0.0510,  ..., 0.0353, 0.0314, 0.0314]])\n"
     ]
    },
    {
     "ename": "IndexError",
     "evalue": "Target -9223372036854775808 is out of bounds.",
     "output_type": "error",
     "traceback": [
      "\u001b[1;31m---------------------------------------------------------------------------\u001b[0m",
      "\u001b[1;31mIndexError\u001b[0m                                Traceback (most recent call last)",
      "Cell \u001b[1;32mIn[40], line 15\u001b[0m\n\u001b[0;32m     13\u001b[0m \u001b[38;5;28mprint\u001b[39m(X_batch)\n\u001b[0;32m     14\u001b[0m y_pred \u001b[38;5;241m=\u001b[39m model(X_batch)\n\u001b[1;32m---> 15\u001b[0m loss \u001b[38;5;241m=\u001b[39m criterion(y_pred, y_batch)\n\u001b[0;32m     16\u001b[0m \u001b[38;5;66;03m# Backward pass\u001b[39;00m\n\u001b[0;32m     17\u001b[0m loss\u001b[38;5;241m.\u001b[39mbackward()\n",
      "File \u001b[1;32m~\\AppData\\Roaming\\Python\\Python311\\site-packages\\torch\\nn\\modules\\module.py:1518\u001b[0m, in \u001b[0;36mModule._wrapped_call_impl\u001b[1;34m(self, *args, **kwargs)\u001b[0m\n\u001b[0;32m   1516\u001b[0m     \u001b[38;5;28;01mreturn\u001b[39;00m \u001b[38;5;28mself\u001b[39m\u001b[38;5;241m.\u001b[39m_compiled_call_impl(\u001b[38;5;241m*\u001b[39margs, \u001b[38;5;241m*\u001b[39m\u001b[38;5;241m*\u001b[39mkwargs)  \u001b[38;5;66;03m# type: ignore[misc]\u001b[39;00m\n\u001b[0;32m   1517\u001b[0m \u001b[38;5;28;01melse\u001b[39;00m:\n\u001b[1;32m-> 1518\u001b[0m     \u001b[38;5;28;01mreturn\u001b[39;00m \u001b[38;5;28mself\u001b[39m\u001b[38;5;241m.\u001b[39m_call_impl(\u001b[38;5;241m*\u001b[39margs, \u001b[38;5;241m*\u001b[39m\u001b[38;5;241m*\u001b[39mkwargs)\n",
      "File \u001b[1;32m~\\AppData\\Roaming\\Python\\Python311\\site-packages\\torch\\nn\\modules\\module.py:1527\u001b[0m, in \u001b[0;36mModule._call_impl\u001b[1;34m(self, *args, **kwargs)\u001b[0m\n\u001b[0;32m   1522\u001b[0m \u001b[38;5;66;03m# If we don't have any hooks, we want to skip the rest of the logic in\u001b[39;00m\n\u001b[0;32m   1523\u001b[0m \u001b[38;5;66;03m# this function, and just call forward.\u001b[39;00m\n\u001b[0;32m   1524\u001b[0m \u001b[38;5;28;01mif\u001b[39;00m \u001b[38;5;129;01mnot\u001b[39;00m (\u001b[38;5;28mself\u001b[39m\u001b[38;5;241m.\u001b[39m_backward_hooks \u001b[38;5;129;01mor\u001b[39;00m \u001b[38;5;28mself\u001b[39m\u001b[38;5;241m.\u001b[39m_backward_pre_hooks \u001b[38;5;129;01mor\u001b[39;00m \u001b[38;5;28mself\u001b[39m\u001b[38;5;241m.\u001b[39m_forward_hooks \u001b[38;5;129;01mor\u001b[39;00m \u001b[38;5;28mself\u001b[39m\u001b[38;5;241m.\u001b[39m_forward_pre_hooks\n\u001b[0;32m   1525\u001b[0m         \u001b[38;5;129;01mor\u001b[39;00m _global_backward_pre_hooks \u001b[38;5;129;01mor\u001b[39;00m _global_backward_hooks\n\u001b[0;32m   1526\u001b[0m         \u001b[38;5;129;01mor\u001b[39;00m _global_forward_hooks \u001b[38;5;129;01mor\u001b[39;00m _global_forward_pre_hooks):\n\u001b[1;32m-> 1527\u001b[0m     \u001b[38;5;28;01mreturn\u001b[39;00m forward_call(\u001b[38;5;241m*\u001b[39margs, \u001b[38;5;241m*\u001b[39m\u001b[38;5;241m*\u001b[39mkwargs)\n\u001b[0;32m   1529\u001b[0m \u001b[38;5;28;01mtry\u001b[39;00m:\n\u001b[0;32m   1530\u001b[0m     result \u001b[38;5;241m=\u001b[39m \u001b[38;5;28;01mNone\u001b[39;00m\n",
      "File \u001b[1;32m~\\AppData\\Roaming\\Python\\Python311\\site-packages\\torch\\nn\\modules\\loss.py:1179\u001b[0m, in \u001b[0;36mCrossEntropyLoss.forward\u001b[1;34m(self, input, target)\u001b[0m\n\u001b[0;32m   1178\u001b[0m \u001b[38;5;28;01mdef\u001b[39;00m \u001b[38;5;21mforward\u001b[39m(\u001b[38;5;28mself\u001b[39m, \u001b[38;5;28minput\u001b[39m: Tensor, target: Tensor) \u001b[38;5;241m-\u001b[39m\u001b[38;5;241m>\u001b[39m Tensor:\n\u001b[1;32m-> 1179\u001b[0m     \u001b[38;5;28;01mreturn\u001b[39;00m F\u001b[38;5;241m.\u001b[39mcross_entropy(\u001b[38;5;28minput\u001b[39m, target, weight\u001b[38;5;241m=\u001b[39m\u001b[38;5;28mself\u001b[39m\u001b[38;5;241m.\u001b[39mweight,\n\u001b[0;32m   1180\u001b[0m                            ignore_index\u001b[38;5;241m=\u001b[39m\u001b[38;5;28mself\u001b[39m\u001b[38;5;241m.\u001b[39mignore_index, reduction\u001b[38;5;241m=\u001b[39m\u001b[38;5;28mself\u001b[39m\u001b[38;5;241m.\u001b[39mreduction,\n\u001b[0;32m   1181\u001b[0m                            label_smoothing\u001b[38;5;241m=\u001b[39m\u001b[38;5;28mself\u001b[39m\u001b[38;5;241m.\u001b[39mlabel_smoothing)\n",
      "File \u001b[1;32m~\\AppData\\Roaming\\Python\\Python311\\site-packages\\torch\\nn\\functional.py:3053\u001b[0m, in \u001b[0;36mcross_entropy\u001b[1;34m(input, target, weight, size_average, ignore_index, reduce, reduction, label_smoothing)\u001b[0m\n\u001b[0;32m   3051\u001b[0m \u001b[38;5;28;01mif\u001b[39;00m size_average \u001b[38;5;129;01mis\u001b[39;00m \u001b[38;5;129;01mnot\u001b[39;00m \u001b[38;5;28;01mNone\u001b[39;00m \u001b[38;5;129;01mor\u001b[39;00m reduce \u001b[38;5;129;01mis\u001b[39;00m \u001b[38;5;129;01mnot\u001b[39;00m \u001b[38;5;28;01mNone\u001b[39;00m:\n\u001b[0;32m   3052\u001b[0m     reduction \u001b[38;5;241m=\u001b[39m _Reduction\u001b[38;5;241m.\u001b[39mlegacy_get_string(size_average, reduce)\n\u001b[1;32m-> 3053\u001b[0m \u001b[38;5;28;01mreturn\u001b[39;00m torch\u001b[38;5;241m.\u001b[39m_C\u001b[38;5;241m.\u001b[39m_nn\u001b[38;5;241m.\u001b[39mcross_entropy_loss(\u001b[38;5;28minput\u001b[39m, target, weight, _Reduction\u001b[38;5;241m.\u001b[39mget_enum(reduction), ignore_index, label_smoothing)\n",
      "\u001b[1;31mIndexError\u001b[0m: Target -9223372036854775808 is out of bounds."
     ]
    }
   ],
   "source": [
    "# Train the DNN on the training set\n",
    "best_val_loss = float('inf') \n",
    "best_model = None \n",
    "for epoch in range(epochs):\n",
    "    model.train()\n",
    "    train_loss = 0\n",
    "    train_acc = 0\n",
    "    # Loop over the training batches\n",
    "    for i in range(0, len(X_train), batch_size):\n",
    "        X_batch = X_train[i:i+batch_size]\n",
    "        y_batch = y_train[i:i+batch_size]\n",
    "        optimizer.zero_grad()\n",
    "        print(X_batch)\n",
    "        y_pred = model(X_batch)\n",
    "        loss = criterion(y_pred, y_batch)\n",
    "        # Backward pass\n",
    "        loss.backward()\n",
    "        # Update the parameters\n",
    "        optimizer.step()\n",
    "        # Update the training loss and accuracy\n",
    "        train_loss += loss.item()\n",
    "        train_acc += (y_pred.argmax(dim=1) == y_batch).sum().item()\n",
    "        # Print the progress\n",
    "        if (i + 1) % 100 == 0:\n",
    "            print(f'Epoch {epoch + 1}, Batch {i + 1}, Loss: {loss.item():.4f}, Accuracy: {(y_pred.argmax(dim=1) == y_batch).sum().item() / batch_size:.4f}')\n",
    "    # Compute the average training loss and accuracy\n",
    "    train_loss /= len(X_train)\n",
    "    train_acc /= len(X_train)\n",
    "    # Set the model to evaluation mode\n",
    "    model.eval()\n",
    "    # Initialize the validation loss and accuracy\n",
    "    val_loss = 0\n",
    "    val_acc = 0\n",
    "    # Loop over the validation batches\n",
    "    for i in range(0, len(X_val), batch_size):\n",
    "        # Get the current batch of features and labels\n",
    "        X_batch = X_val[i:i+batch_size]\n",
    "        y_batch = y_val[i:i+batch_size]\n",
    "        # Forward pass\n",
    "        y_pred = model(X_batch)\n",
    "        # Compute the loss\n",
    "        loss = criterion(y_pred, y_batch)\n",
    "        # Update the validation loss and accuracy\n",
    "        val_loss += loss.item()\n",
    "        val_acc += (y_pred.argmax(dim=1) == y_batch).sum().item()\n",
    "    # Compute the average validation loss and accuracy\n",
    "    val_loss /= len(X_val)\n",
    "    val_acc /= len(X_val)\n",
    "    # Print the epoch summary\n",
    "    print(f'Epoch {epoch + 1}, Train Loss: {train_loss:.4f}, Train Accuracy: {train_acc:.4f}, Val Loss: {val_loss:.4f}, Val Accuracy: {val_acc:.4f}')\n",
    "    # Save the model with the lowest validation loss\n",
    "    if val_loss < best_val_loss:\n",
    "        best_val_loss = val_loss\n",
    "        best_model = model\n"
   ]
  },
  {
   "cell_type": "code",
   "execution_count": null,
   "id": "7d4a9f23",
   "metadata": {},
   "outputs": [],
   "source": []
  }
 ],
 "metadata": {
  "kernelspec": {
   "display_name": "Python 3 (ipykernel)",
   "language": "python",
   "name": "python3"
  },
  "language_info": {
   "codemirror_mode": {
    "name": "ipython",
    "version": 3
   },
   "file_extension": ".py",
   "mimetype": "text/x-python",
   "name": "python",
   "nbconvert_exporter": "python",
   "pygments_lexer": "ipython3",
   "version": "3.11.5"
  }
 },
 "nbformat": 4,
 "nbformat_minor": 5
}
